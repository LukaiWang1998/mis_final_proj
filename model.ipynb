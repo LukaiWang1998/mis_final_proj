{
 "cells": [
  {
   "cell_type": "markdown",
   "metadata": {},
   "source": []
  },
  {
   "cell_type": "code",
   "execution_count": null,
   "metadata": {},
   "outputs": [],
   "source": []
  },
  {
   "cell_type": "markdown",
   "metadata": {},
   "source": []
  },
  {
   "cell_type": "code",
   "execution_count": null,
   "metadata": {},
   "outputs": [
    {
     "name": "stderr",
     "output_type": "stream",
     "text": [
      "Using TensorFlow backend.\n"
     ]
    }
   ],
   "source": []
  },
  {
   "cell_type": "markdown",
   "metadata": {},
   "source": []
  },
  {
   "cell_type": "code",
   "execution_count": null,
   "metadata": {},
   "outputs": [],
   "source": []
  },
  {
   "cell_type": "code",
   "execution_count": null,
   "metadata": {},
   "outputs": [],
   "source": []
  },
  {
   "cell_type": "code",
   "execution_count": null,
   "metadata": {},
   "outputs": [],
   "source": []
  },
  {
   "cell_type": "markdown",
   "metadata": {},
   "source": []
  },
  {
   "cell_type": "code",
   "execution_count": null,
   "metadata": {},
   "outputs": [],
   "source": []
  },
  {
   "cell_type": "code",
   "execution_count": null,
   "metadata": {},
   "outputs": [],
   "source": []
  },
  {
   "cell_type": "code",
   "execution_count": null,
   "metadata": {},
   "outputs": [
    {
     "name": "stdout",
     "output_type": "stream",
     "text": [
      "__________________________________________________________________________________________________\n",
      "Layer (type)                    Output Shape         Param #     Connected to                     \n",
      "==================================================================================================\n",
      "input_1 (InputLayer)            (None, 256, 256, 3)  0                                            \n",
      "__________________________________________________________________________________________________\n",
      "conv1_1 (Conv2D)                (None, 256, 256, 32) 896         input_1[0][0]                    \n",
      "__________________________________________________________________________________________________\n",
      "conv1_2 (Conv2D)                (None, 256, 256, 32) 9248        conv1_1[0][0]                    \n",
      "__________________________________________________________________________________________________\n",
      "pool_1 (MaxPooling2D)           (None, 128, 128, 32) 0           conv1_2[0][0]                    \n",
      "__________________________________________________________________________________________________\n",
      "conv2_1 (Conv2D)                (None, 128, 128, 64) 18496       pool_1[0][0]                     \n",
      "__________________________________________________________________________________________________\n",
      "conv2_2 (Conv2D)                (None, 128, 128, 64) 36928       conv2_1[0][0]                    \n",
      "__________________________________________________________________________________________________\n",
      "pool_2 (MaxPooling2D)           (None, 64, 64, 64)   0           conv2_2[0][0]                    \n",
      "__________________________________________________________________________________________________\n",
      "conv3_1 (Conv2D)                (None, 64, 64, 128)  73856       pool_2[0][0]                     \n",
      "__________________________________________________________________________________________________\n",
      "conv3_2 (Conv2D)                (None, 64, 64, 128)  147584      conv3_1[0][0]                    \n",
      "__________________________________________________________________________________________________\n",
      "pool_3 (MaxPooling2D)           (None, 32, 32, 128)  0           conv3_2[0][0]                    \n",
      "__________________________________________________________________________________________________\n",
      "conv4_1 (Conv2D)                (None, 32, 32, 256)  295168      pool_3[0][0]                     \n",
      "__________________________________________________________________________________________________\n",
      "conv4_2 (Conv2D)                (None, 32, 32, 256)  590080      conv4_1[0][0]                    \n",
      "__________________________________________________________________________________________________\n",
      "upconv5_1 (UpSampling2D)        (None, 64, 64, 256)  0           conv4_2[0][0]                    \n",
      "__________________________________________________________________________________________________\n",
      "upconv5_2 (Conv2D)              (None, 64, 64, 128)  131200      upconv5_1[0][0]                  \n",
      "__________________________________________________________________________________________________\n",
      "concat_5 (Concatenate)          (None, 64, 64, 256)  0           upconv5_2[0][0]                  \n",
      "                                                                 conv3_2[0][0]                    \n",
      "__________________________________________________________________________________________________\n",
      "conv5_1 (Conv2D)                (None, 64, 64, 128)  295040      concat_5[0][0]                   \n",
      "__________________________________________________________________________________________________\n",
      "conv5_2 (Conv2D)                (None, 64, 64, 128)  147584      conv5_1[0][0]                    \n",
      "__________________________________________________________________________________________________\n",
      "upconv6_1 (UpSampling2D)        (None, 128, 128, 128 0           conv5_2[0][0]                    \n",
      "__________________________________________________________________________________________________\n",
      "upconv6_2 (Conv2D)              (None, 128, 128, 64) 32832       upconv6_1[0][0]                  \n",
      "__________________________________________________________________________________________________\n",
      "concat_6 (Concatenate)          (None, 128, 128, 128 0           upconv6_2[0][0]                  \n",
      "                                                                 conv2_2[0][0]                    \n",
      "__________________________________________________________________________________________________\n",
      "conv6_1 (Conv2D)                (None, 128, 128, 64) 73792       concat_6[0][0]                   \n",
      "__________________________________________________________________________________________________\n",
      "conv6_2 (Conv2D)                (None, 128, 128, 64) 36928       conv6_1[0][0]                    \n",
      "__________________________________________________________________________________________________\n",
      "upconv7_1 (UpSampling2D)        (None, 256, 256, 64) 0           conv6_2[0][0]                    \n",
      "__________________________________________________________________________________________________\n",
      "upconv7_2 (Conv2D)              (None, 256, 256, 32) 8224        upconv7_1[0][0]                  \n",
      "__________________________________________________________________________________________________\n",
      "concat_7 (Concatenate)          (None, 256, 256, 64) 0           upconv7_2[0][0]                  \n",
      "                                                                 conv1_2[0][0]                    \n",
      "__________________________________________________________________________________________________\n",
      "conv7_1 (Conv2D)                (None, 256, 256, 32) 18464       concat_7[0][0]                   \n",
      "__________________________________________________________________________________________________\n",
      "conv7_2 (Conv2D)                (None, 256, 256, 32) 9248        conv7_1[0][0]                    \n",
      "__________________________________________________________________________________________________\n",
      "conv8 (Conv2D)                  (None, 256, 256, 81) 2673        conv7_2[0][0]                    \n",
      "==================================================================================================\n",
      "Total params: 1,928,241\n",
      "Trainable params: 1,928,241\n",
      "Non-trainable params: 0\n",
      "__________________________________________________________________________________________________\n"
     ]
    }
   ],
   "source": []
  },
  {
   "cell_type": "markdown",
   "metadata": {},
   "source": []
  },
  {
   "cell_type": "code",
   "execution_count": null,
   "metadata": {},
   "outputs": [],
   "source": []
  },
  {
   "cell_type": "code",
   "execution_count": null,
   "metadata": {},
   "outputs": [
    {
     "name": "stdout",
     "output_type": "stream",
     "text": [
      "Requirement already satisfied: Cython in /usr/local/lib/python3.6/dist-packages (0.28.5)\n",
      "Requirement already satisfied: pycocotools in /usr/local/lib/python3.6/dist-packages (2.0.0)\n"
     ]
    }
   ],
   "source": []
  },
  {
   "cell_type": "code",
   "execution_count": null,
   "metadata": {},
   "outputs": [],
   "source": []
  },
  {
   "cell_type": "code",
   "execution_count": null,
   "metadata": {},
   "outputs": [
    {
     "name": "stdout",
     "output_type": "stream",
     "text": [
      "Mounted at /gdrive\n"
     ]
    }
   ],
   "source": []
  },
  {
   "cell_type": "code",
   "execution_count": null,
   "metadata": {},
   "outputs": [
    {
     "name": "stdout",
     "output_type": "stream",
     "text": [
      "/gdrive/My Drive\n"
     ]
    }
   ],
   "source": []
  },
  {
   "cell_type": "code",
   "execution_count": null,
   "metadata": {},
   "outputs": [
    {
     "name": "stdout",
     "output_type": "stream",
     "text": [
      "['cocoapi/images/000000136355.jpg', 'cocoapi/images/000000077460.jpg', 'cocoapi/images/000000513484.jpg']\n"
     ]
    }
   ],
   "source": []
  },
  {
   "cell_type": "code",
   "execution_count": null,
   "metadata": {},
   "outputs": [
    {
     "name": "stdout",
     "output_type": "stream",
     "text": [
      "[136355, 77460, 513484]\n"
     ]
    }
   ],
   "source": []
  },
  {
   "cell_type": "code",
   "execution_count": null,
   "metadata": {},
   "outputs": [
    {
     "name": "stdout",
     "output_type": "stream",
     "text": [
      "loading annotations into memory...\n",
      "Done (t=0.78s)\n",
      "creating index...\n",
      "index created!\n"
     ]
    }
   ],
   "source": []
  },
  {
   "cell_type": "code",
   "execution_count": null,
   "metadata": {},
   "outputs": [],
   "source": []
  },
  {
   "cell_type": "code",
   "execution_count": null,
   "metadata": {},
   "outputs": [],
   "source": []
  },
  {
   "cell_type": "code",
   "execution_count": null,
   "metadata": {},
   "outputs": [],
   "source": []
  },
  {
   "cell_type": "code",
   "execution_count": null,
   "metadata": {},
   "outputs": [
    {
     "name": "stdout",
     "output_type": "stream",
     "text": [
      "81\n"
     ]
    }
   ],
   "source": []
  },
  {
   "cell_type": "code",
   "execution_count": null,
   "metadata": {},
   "outputs": [],
   "source": []
  },
  {
   "cell_type": "code",
   "execution_count": null,
   "metadata": {},
   "outputs": [],
   "source": []
  },
  {
   "cell_type": "code",
   "execution_count": null,
   "metadata": {},
   "outputs": [],
   "source": []
  },
  {
   "cell_type": "code",
   "execution_count": null,
   "metadata": {},
   "outputs": [
    {
     "name": "stdout",
     "output_type": "stream",
     "text": [
      "End : GT Image of Id 136355  | shape = (256, 256, 1) | step : [1 / 2327]\n",
      "!! Error    : GT Image of Id   98497  | step : [24 / 2327]     Error !!\n",
      "!! Error    : GT Image of Id  344611  | step : [49 / 2327]     Error !!\n",
      "End : GT Image of Id 568195  | shape = (256, 256, 1) | step : [101 / 2327]\n",
      "!! Error    : GT Image of Id  374727  | step : [185 / 2327]     Error !!\n",
      "End : GT Image of Id 117645  | shape = (256, 256, 1) | step : [201 / 2327]\n",
      "!! Error    : GT Image of Id  141671  | step : [244 / 2327]     Error !!\n",
      "End : GT Image of Id 205834  | shape = (256, 256, 1) | step : [301 / 2327]\n",
      "End : GT Image of Id 282912  | shape = (256, 256, 1) | step : [401 / 2327]\n",
      "!! Error    : GT Image of Id  353180  | step : [421 / 2327]     Error !!\n",
      "End : GT Image of Id 334399  | shape = (256, 256, 1) | step : [501 / 2327]\n",
      "End : GT Image of Id 252216  | shape = (256, 256, 1) | step : [601 / 2327]\n",
      "!! Error    : GT Image of Id  550939  | step : [694 / 2327]     Error !!\n",
      "End : GT Image of Id 175251  | shape = (256, 256, 1) | step : [701 / 2327]\n",
      "!! Error    : GT Image of Id  458790  | step : [786 / 2327]     Error !!\n",
      "End : GT Image of Id 498919  | shape = (256, 256, 1) | step : [801 / 2327]\n",
      "!! Error    : GT Image of Id  528977  | step : [809 / 2327]     Error !!\n",
      "!! Error    : GT Image of Id  536343  | step : [812 / 2327]     Error !!\n",
      "!! Error    : GT Image of Id  308391  | step : [839 / 2327]     Error !!\n",
      "End : GT Image of Id 145020  | shape = (256, 256, 1) | step : [901 / 2327]\n",
      "!! Error    : GT Image of Id   25593  | step : [982 / 2327]     Error !!\n",
      "End : GT Image of Id  66635  | shape = (256, 256, 1) | step : [1001 / 2327]\n",
      "End : GT Image of Id 209530  | shape = (256, 256, 1) | step : [1101 / 2327]\n",
      "!! Error    : GT Image of Id  310622  | step : [1199 / 2327]     Error !!\n",
      "End : GT Image of Id 359219  | shape = (256, 256, 1) | step : [1201 / 2327]\n",
      "!! Error    : GT Image of Id  404601  | step : [1202 / 2327]     Error !!\n",
      "End : GT Image of Id  84170  | shape = (256, 256, 1) | step : [1301 / 2327]\n",
      "!! Error    : GT Image of Id  121153  | step : [1304 / 2327]     Error !!\n",
      "End : GT Image of Id 156372  | shape = (256, 256, 1) | step : [1401 / 2327]\n",
      "!! Error    : GT Image of Id   61418  | step : [1413 / 2327]     Error !!\n",
      "!! Error    : GT Image of Id  200152  | step : [1499 / 2327]     Error !!\n",
      "End : GT Image of Id 177861  | shape = (256, 256, 1) | step : [1501 / 2327]\n",
      "End : GT Image of Id 246308  | shape = (256, 256, 1) | step : [1601 / 2327]\n",
      "End : GT Image of Id  22479  | shape = (256, 256, 1) | step : [1701 / 2327]\n",
      "!! Error    : GT Image of Id  268996  | step : [1714 / 2327]     Error !!\n",
      "End : GT Image of Id 305695  | shape = (256, 256, 1) | step : [1801 / 2327]\n",
      "!! Error    : GT Image of Id  267946  | step : [1801 / 2327]     Error !!\n",
      "!! Error    : GT Image of Id  382734  | step : [1806 / 2327]     Error !!\n",
      "!! Error    : GT Image of Id  198915  | step : [1808 / 2327]     Error !!\n",
      "!! Error    : GT Image of Id  431848  | step : [1899 / 2327]     Error !!\n",
      "End : GT Image of Id 256916  | shape = (256, 256, 1) | step : [1901 / 2327]\n",
      "!! Error    : GT Image of Id  402096  | step : [1934 / 2327]     Error !!\n",
      "End : GT Image of Id  79144  | shape = (256, 256, 1) | step : [2001 / 2327]\n",
      "!! Error    : GT Image of Id  176701  | step : [2019 / 2327]     Error !!\n",
      "!! Error    : GT Image of Id  240767  | step : [2070 / 2327]     Error !!\n",
      "End : GT Image of Id 128476  | shape = (256, 256, 1) | step : [2101 / 2327]\n",
      "!! Error    : GT Image of Id  560371  | step : [2171 / 2327]     Error !!\n",
      "End : GT Image of Id 388215  | shape = (256, 256, 1) | step : [2201 / 2327]\n",
      "!! Error    : GT Image of Id  209222  | step : [2287 / 2327]     Error !!\n",
      "!! Error    : GT Image of Id   41488  | step : [2294 / 2327]     Error !!\n",
      "End : GT Image of Id 352491  | shape = (256, 256, 1) | step : [2301 / 2327]\n",
      "!! Error    : GT Image of Id  481404  | step : [2317 / 2327]     Error !!\n"
     ]
    }
   ],
   "source": []
  },
  {
   "cell_type": "code",
   "execution_count": null,
   "metadata": {},
   "outputs": [],
   "source": []
  },
  {
   "cell_type": "code",
   "execution_count": null,
   "metadata": {},
   "outputs": [],
   "source": []
  },
  {
   "cell_type": "code",
   "execution_count": null,
   "metadata": {},
   "outputs": [
    {
     "name": "stdout",
     "output_type": "stream",
     "text": [
      "(2299, 256, 256, 3) (2299, 256, 256, 1)\n"
     ]
    }
   ],
   "source": []
  },
  {
   "cell_type": "markdown",
   "metadata": {},
   "source": []
  },
  {
   "cell_type": "code",
   "execution_count": null,
   "metadata": {},
   "outputs": [],
   "source": []
  },
  {
   "cell_type": "code",
   "execution_count": null,
   "metadata": {},
   "outputs": [],
   "source": []
  },
  {
   "cell_type": "code",
   "execution_count": null,
   "metadata": {},
   "outputs": [],
   "source": []
  },
  {
   "cell_type": "markdown",
   "metadata": {},
   "source": []
  },
  {
   "cell_type": "code",
   "execution_count": null,
   "metadata": {},
   "outputs": [
    {
     "name": "stdout",
     "output_type": "stream",
     "text": [
      "Train on 2069 samples, validate on 230 samples\n",
      "Epoch 1/20\n",
      "2069/2069 [==============================] - 126s 61ms/step - loss: 0.0242 - mean_acc: 0.7679 - val_loss: 0.0245 - val_mean_acc: 0.7499\n",
      "Epoch 2/20\n",
      "2069/2069 [==============================] - 126s 61ms/step - loss: 0.0242 - mean_acc: 0.7680 - val_loss: 0.0244 - val_mean_acc: 0.7503\n",
      "Epoch 3/20\n",
      "2069/2069 [==============================] - 126s 61ms/step - loss: 0.0241 - mean_acc: 0.7682 - val_loss: 0.0243 - val_mean_acc: 0.7504\n",
      "Epoch 4/20\n",
      "2069/2069 [==============================] - 125s 61ms/step - loss: 0.0240 - mean_acc: 0.7683 - val_loss: 0.0244 - val_mean_acc: 0.7506\n",
      "Epoch 5/20\n",
      "2069/2069 [==============================] - 126s 61ms/step - loss: 0.0240 - mean_acc: 0.7685 - val_loss: 0.0242 - val_mean_acc: 0.7506\n",
      "Epoch 6/20\n",
      "2069/2069 [==============================] - 126s 61ms/step - loss: 0.0239 - mean_acc: 0.7685 - val_loss: 0.0242 - val_mean_acc: 0.7508\n",
      "Epoch 7/20\n",
      "2069/2069 [==============================] - 126s 61ms/step - loss: 0.0238 - mean_acc: 0.7686 - val_loss: 0.0240 - val_mean_acc: 0.7507\n",
      "Epoch 8/20\n",
      "2069/2069 [==============================] - 126s 61ms/step - loss: 0.0238 - mean_acc: 0.7688 - val_loss: 0.0240 - val_mean_acc: 0.7508\n",
      "Epoch 9/20\n",
      "2069/2069 [==============================] - 126s 61ms/step - loss: 0.0237 - mean_acc: 0.7688 - val_loss: 0.0241 - val_mean_acc: 0.7511\n",
      "Epoch 10/20\n",
      "2069/2069 [==============================] - 126s 61ms/step - loss: 0.0236 - mean_acc: 0.7689 - val_loss: 0.0239 - val_mean_acc: 0.7509\n",
      "Epoch 11/20\n",
      "2069/2069 [==============================] - 126s 61ms/step - loss: 0.0236 - mean_acc: 0.7690 - val_loss: 0.0238 - val_mean_acc: 0.7512\n",
      "Epoch 12/20\n",
      "2069/2069 [==============================] - 126s 61ms/step - loss: 0.0235 - mean_acc: 0.7691 - val_loss: 0.0237 - val_mean_acc: 0.7512\n",
      "Epoch 13/20\n",
      "2069/2069 [==============================] - 126s 61ms/step - loss: 0.0234 - mean_acc: 0.7691 - val_loss: 0.0237 - val_mean_acc: 0.7512\n",
      "Epoch 14/20\n",
      "2069/2069 [==============================] - 126s 61ms/step - loss: 0.0234 - mean_acc: 0.7691 - val_loss: 0.0236 - val_mean_acc: 0.7514\n",
      "Epoch 15/20\n",
      "2069/2069 [==============================] - 126s 61ms/step - loss: 0.0233 - mean_acc: 0.7692 - val_loss: 0.0236 - val_mean_acc: 0.7514\n",
      "Epoch 16/20\n",
      "2069/2069 [==============================] - 125s 61ms/step - loss: 0.0233 - mean_acc: 0.7693 - val_loss: 0.0236 - val_mean_acc: 0.7515\n",
      "Epoch 17/20\n",
      "2069/2069 [==============================] - 126s 61ms/step - loss: 0.0232 - mean_acc: 0.7693 - val_loss: 0.0234 - val_mean_acc: 0.7515\n",
      "Epoch 18/20\n",
      "2069/2069 [==============================] - 125s 61ms/step - loss: 0.0231 - mean_acc: 0.7694 - val_loss: 0.0234 - val_mean_acc: 0.7516\n",
      "Epoch 19/20\n",
      "2069/2069 [==============================] - 126s 61ms/step - loss: 0.0231 - mean_acc: 0.7694 - val_loss: 0.0233 - val_mean_acc: 0.7515\n",
      "Epoch 20/20\n",
      "2069/2069 [==============================] - 126s 61ms/step - loss: 0.0231 - mean_acc: 0.7695 - val_loss: 0.0232 - val_mean_acc: 0.7516\n"
     ]
    }
   ],
   "source": []
  },
  {
   "cell_type": "markdown",
   "metadata": {},
   "source": []
  },
  {
   "cell_type": "code",
   "execution_count": null,
   "metadata": {},
   "outputs": [
    {
     "data": {
      "image/png": "[encoded data removed]",
      "text/plain": [
       "<matplotlib.figure.Figure at 0x7fa54332eb38>"
      ]
     },
     "metadata": {},
     "output_type": "display_data"
    }
   ],
   "source": []
  },
  {
   "cell_type": "code",
   "execution_count": null,
   "metadata": {},
   "outputs": [
    {
     "data": {
      "image/png": "[encoded data removed]",
      "text/plain": [
       "<matplotlib.figure.Figure at 0x7fa53d29fb70>"
      ]
     },
     "metadata": {},
     "output_type": "display_data"
    }
   ],
   "source": []
  }
 ],
 "metadata": {
  "language_info": {
   "name": "python"
  }
 },
 "nbformat": 4,
 "nbformat_minor": 2
}
