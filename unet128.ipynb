{
 "cells": [
  {
   "cell_type": "markdown",
   "metadata": {
    "colab_type": "text",
    "id": "eSCzWWCj-3tk"
   },
   "source": [
    "# Import"
   ]
  },
  {
   "cell_type": "code",
   "execution_count": 14,
   "metadata": {
    "colab": {
     "base_uri": "https://localhost:8080/",
     "height": 35
    },
    "colab_type": "code",
    "executionInfo": {
     "elapsed": 2017,
     "status": "ok",
     "timestamp": 1538373412669,
     "user": {
      "displayName": "CDM",
      "photoUrl": "",
      "userId": "09977954582062536659"
     },
     "user_tz": -540
    },
    "id": "wv3osoaP95Ap",
    "outputId": "9f5df626-53ac-4d59-ffcf-46c9fd365120"
   },
   "outputs": [],
   "source": [
    "from keras.models import Model\n",
    "from keras.layers import Conv2D, MaxPooling2D, concatenate, UpSampling2D, Dropout, Cropping2D, Softmax, Input\n",
    "from keras.preprocessing import image"
   ]
  },
  {
   "cell_type": "markdown",
   "metadata": {
    "colab_type": "text",
    "id": "oEZVRBNf-4XA"
   },
   "source": [
    "# Setting"
   ]
  },
  {
   "cell_type": "code",
   "execution_count": 15,
   "metadata": {
    "colab": {},
    "colab_type": "code",
    "id": "BQepfh0b-OLN"
   },
   "outputs": [],
   "source": [
    "image_shape = [128, 128, 1]"
   ]
  },
  {
   "cell_type": "code",
   "execution_count": 16,
   "metadata": {
    "colab": {},
    "colab_type": "code",
    "id": "FgRsuVocI64a"
   },
   "outputs": [],
   "source": [
    "keep_prob = 0.5    # Dropout rate"
   ]
  },
  {
   "cell_type": "code",
   "execution_count": 17,
   "metadata": {
    "colab": {},
    "colab_type": "code",
    "id": "glgJcv0ky9YY"
   },
   "outputs": [],
   "source": [
    "num_of_classes = 2"
   ]
  },
  {
   "cell_type": "markdown",
   "metadata": {
    "colab_type": "text",
    "id": "4b_dj59d_AGQ"
   },
   "source": [
    "# Model"
   ]
  },
  {
   "cell_type": "code",
   "execution_count": 1,
   "metadata": {
    "colab": {},
    "colab_type": "code",
    "id": "Vy6PAxyoaYFj"
   },
   "outputs": [
    {
     "name": "stdout",
     "output_type": "stream",
     "text": [
      "Model: \"model\"\n",
      "__________________________________________________________________________________________________\n",
      " Layer (type)                Output Shape                 Param #   Connected to                  \n",
      "==================================================================================================\n",
      " input_1 (InputLayer)        [(None, 128, 128, 1)]        0         []                            \n",
      "                                                                                                  \n",
      " expand_conv_0_1 (Conv2D)    (None, 128, 128, 16)         160       ['input_1[0][0]']             \n",
      "                                                                                                  \n",
      " expand_conv_0_2 (Conv2D)    (None, 128, 128, 16)         2320      ['expand_conv_0_1[0][0]']     \n",
      "                                                                                                  \n",
      " pool_0 (MaxPooling2D)       (None, 64, 64, 16)           0         ['expand_conv_0_2[0][0]']     \n",
      "                                                                                                  \n",
      " expand_conv_1_1 (Conv2D)    (None, 64, 64, 32)           4640      ['pool_0[0][0]']              \n",
      "                                                                                                  \n",
      " expand_conv_1_2 (Conv2D)    (None, 64, 64, 32)           9248      ['expand_conv_1_1[0][0]']     \n",
      "                                                                                                  \n",
      " pool_1 (MaxPooling2D)       (None, 32, 32, 32)           0         ['expand_conv_1_2[0][0]']     \n",
      "                                                                                                  \n",
      " expand_conv_2_1 (Conv2D)    (None, 32, 32, 64)           18496     ['pool_1[0][0]']              \n",
      "                                                                                                  \n",
      " expand_conv_2_2 (Conv2D)    (None, 32, 32, 64)           36928     ['expand_conv_2_1[0][0]']     \n",
      "                                                                                                  \n",
      " pool_2 (MaxPooling2D)       (None, 16, 16, 64)           0         ['expand_conv_2_2[0][0]']     \n",
      "                                                                                                  \n",
      " bottom_conv_1 (Conv2D)      (None, 16, 16, 128)          73856     ['pool_2[0][0]']              \n",
      "                                                                                                  \n",
      " bottom_conv_2 (Conv2D)      (None, 16, 16, 128)          147584    ['bottom_conv_1[0][0]']       \n",
      "                                                                                                  \n",
      " upconv_2_1 (UpSampling2D)   (None, 32, 32, 128)          0         ['bottom_conv_2[0][0]']       \n",
      "                                                                                                  \n",
      " upconv_2_2 (Conv2D)         (None, 32, 32, 64)           32832     ['upconv_2_1[0][0]']          \n",
      "                                                                                                  \n",
      " concat_2 (Concatenate)      (None, 32, 32, 128)          0         ['upconv_2_2[0][0]',          \n",
      "                                                                     'expand_conv_2_2[0][0]']     \n",
      "                                                                                                  \n",
      " contract_conv_2_1 (Conv2D)  (None, 32, 32, 64)           73792     ['concat_2[0][0]']            \n",
      "                                                                                                  \n",
      " contract_conv_2_2 (Conv2D)  (None, 32, 32, 64)           36928     ['contract_conv_2_1[0][0]']   \n",
      "                                                                                                  \n",
      " upconv_1_1 (UpSampling2D)   (None, 64, 64, 64)           0         ['contract_conv_2_2[0][0]']   \n",
      "                                                                                                  \n",
      " upconv_1_2 (Conv2D)         (None, 64, 64, 32)           8224      ['upconv_1_1[0][0]']          \n",
      "                                                                                                  \n",
      " concat_1 (Concatenate)      (None, 64, 64, 64)           0         ['upconv_1_2[0][0]',          \n",
      "                                                                     'expand_conv_1_2[0][0]']     \n",
      "                                                                                                  \n",
      " contract_conv_1_1 (Conv2D)  (None, 64, 64, 32)           18464     ['concat_1[0][0]']            \n",
      "                                                                                                  \n",
      " contract_conv_1_2 (Conv2D)  (None, 64, 64, 32)           9248      ['contract_conv_1_1[0][0]']   \n",
      "                                                                                                  \n",
      " upconv_0_1 (UpSampling2D)   (None, 128, 128, 32)         0         ['contract_conv_1_2[0][0]']   \n",
      "                                                                                                  \n",
      " upconv_0_2 (Conv2D)         (None, 128, 128, 16)         2064      ['upconv_0_1[0][0]']          \n",
      "                                                                                                  \n",
      " concat_0 (Concatenate)      (None, 128, 128, 32)         0         ['upconv_0_2[0][0]',          \n",
      "                                                                     'expand_conv_0_2[0][0]']     \n",
      "                                                                                                  \n",
      " contract_conv_0_1 (Conv2D)  (None, 128, 128, 16)         4624      ['concat_0[0][0]']            \n",
      "                                                                                                  \n",
      " contract_conv_0_2 (Conv2D)  (None, 128, 128, 16)         2320      ['contract_conv_0_1[0][0]']   \n",
      "                                                                                                  \n",
      " conv_last (Conv2D)          (None, 128, 128, 2)          34        ['contract_conv_0_2[0][0]']   \n",
      "                                                                                                  \n",
      "==================================================================================================\n",
      "Total params: 481762 (1.84 MB)\n",
      "Trainable params: 481762 (1.84 MB)\n",
      "Non-trainable params: 0 (0.00 Byte)\n",
      "__________________________________________________________________________________________________\n"
     ]
    }
   ],
   "source": [
    "def mini_u_net(image_shape, keep_prob, num_of_classes):\n",
    "  \n",
    "  # Contracting Path\n",
    "  \n",
    "  input_image = Input(image_shape)\n",
    "  \n",
    "  conv1_1 = Conv2D(filters = 16, kernel_size = (3, 3), padding = 'same', activation = 'relu', name = 'conv1_1')(input_image)\n",
    "  conv1_2 = Conv2D(filters = 16, kernel_size = (3, 3), padding = 'same', activation = 'relu', name = 'conv1_2')(conv1_1)\n",
    "  \n",
    "  pool_1 = MaxPooling2D(name = 'pool_1')(conv1_2)\n",
    "  \n",
    "  conv2_1 = Conv2D(filters = 32, kernel_size = (3, 3), padding = 'same', activation = 'relu', name = 'conv2_1')(pool_1)\n",
    "  conv2_2 = Conv2D(filters = 32, kernel_size = (3, 3), padding = 'same', activation = 'relu', name = 'conv2_2')(conv2_1)\n",
    "  \n",
    "  pool_2 = MaxPooling2D(name = 'pool_2')(conv2_2)\n",
    "  \n",
    "  conv3_1 = Conv2D(filters = 64, kernel_size = (3, 3), padding = 'same', activation = 'relu', name = 'conv3_1')(pool_2)\n",
    "  conv3_2 = Conv2D(filters = 64, kernel_size = (3, 3), padding = 'same', activation = 'relu', name = 'conv3_2')(conv3_1)\n",
    "  \n",
    "  pool_3 = MaxPooling2D(name = 'pool_3')(conv3_2)\n",
    "  \n",
    "  conv4_1 = Conv2D(filters = 128, kernel_size = (3, 3), padding = 'same', activation = 'relu', name = 'conv4_1')(pool_3)\n",
    "  conv4_2 = Conv2D(filters = 128, kernel_size = (3, 3), padding = 'same', activation = 'relu', name = 'conv4_2')(conv4_1)\n",
    "  \n",
    "  \n",
    "  \n",
    "  # Expanding Path\n",
    "  \n",
    "  upconv5_1 = UpSampling2D(name = 'upconv5_1')(conv4_2)\n",
    "  upconv5_2 = Conv2D(filters = 64, kernel_size = (2, 2), activation = 'relu', padding = 'same', name = 'upconv5_2')(upconv5_1)\n",
    "  concat_5 = concatenate([upconv5_2, conv3_2], axis = 3, name = 'concat_5')\n",
    "  \n",
    "  conv5_1 = Conv2D(filters = 64, kernel_size = (3, 3), padding = 'same', activation = 'relu', name = 'conv5_1')(concat_5)\n",
    "  conv5_2 = Conv2D(filters = 64, kernel_size = (3, 3), padding = 'same', activation = 'relu', name = 'conv5_2')(conv5_1)\n",
    "  \n",
    "  \n",
    "  upconv6_1 = UpSampling2D(name = 'upconv6_1')(conv5_2)\n",
    "  upconv6_2 = Conv2D(filters = 32, kernel_size = (2, 2), activation = 'relu', padding = 'same', name = 'upconv6_2')(upconv6_1)\n",
    "  concat_6 = concatenate([upconv6_2, conv2_2], axis = 3, name = 'concat_6')\n",
    "  \n",
    "  conv6_1 = Conv2D(filters = 32, kernel_size = (3, 3), padding = 'same', activation = 'relu', name = 'conv6_1')(concat_6)\n",
    "  conv6_2 = Conv2D(filters = 32, kernel_size = (3, 3), padding = 'same', activation = 'relu', name = 'conv6_2')(conv6_1)\n",
    "  \n",
    "  upconv7_1 = UpSampling2D(name = 'upconv7_1')(conv6_2)\n",
    "  upconv7_2 = Conv2D(filters = 16, kernel_size = (2, 2), activation = 'relu', padding = 'same', name = 'upconv7_2')(upconv7_1)\n",
    "  concat_7 = concatenate([upconv7_2, conv1_2], axis = 3, name = 'concat_7')\n",
    "  \n",
    "  conv7_1 = Conv2D(filters = 8, kernel_size = (3, 3), padding = 'same', activation = 'relu', name = 'conv7_1')(concat_7)\n",
    "  conv7_2 = Conv2D(filters = 8, kernel_size = (3, 3), padding = 'same', activation = 'relu', name = 'conv7_2')(conv7_1)\n",
    "  \n",
    "  conv8 = Conv2D(filters = num_of_classes, kernel_size = (1, 1), activation = 'softmax', name = 'conv8')(conv7_2)\n",
    "  \n",
    "  model = Model(inputs = input_image, outputs = conv8, name = 'model')\n",
    "  \n",
    "  return model\n",
    "\n",
    "import unet\n",
    "model = unet.unet(base_level_filters=16,layers=4)\n",
    "model.summary()"
   ]
  },
  {
   "cell_type": "code",
   "execution_count": 19,
   "metadata": {
    "colab": {},
    "colab_type": "code",
    "id": "w2bz14_XamOT"
   },
   "outputs": [],
   "source": [
    "u_net = mini_u_net(image_shape, keep_prob, num_of_classes)"
   ]
  },
  {
   "cell_type": "code",
   "execution_count": 20,
   "metadata": {
    "colab": {
     "base_uri": "https://localhost:8080/",
     "height": 1190
    },
    "colab_type": "code",
    "executionInfo": {
     "elapsed": 914,
     "status": "ok",
     "timestamp": 1538373422656,
     "user": {
      "displayName": "CDM",
      "photoUrl": "",
      "userId": "09977954582062536659"
     },
     "user_tz": -540
    },
    "id": "LPgYTFUygKWP",
    "outputId": "f86cb30d-855d-4ba6-dad2-2e9957847807"
   },
   "outputs": [
    {
     "name": "stdout",
     "output_type": "stream",
     "text": [
      "Model: \"model\"\n",
      "__________________________________________________________________________________________________\n",
      " Layer (type)                Output Shape                 Param #   Connected to                  \n",
      "==================================================================================================\n",
      " input_2 (InputLayer)        [(None, 128, 128, 1)]        0         []                            \n",
      "                                                                                                  \n",
      " conv1_1 (Conv2D)            (None, 128, 128, 16)         160       ['input_2[0][0]']             \n",
      "                                                                                                  \n",
      " conv1_2 (Conv2D)            (None, 128, 128, 16)         2320      ['conv1_1[0][0]']             \n",
      "                                                                                                  \n",
      " pool_1 (MaxPooling2D)       (None, 64, 64, 16)           0         ['conv1_2[0][0]']             \n",
      "                                                                                                  \n",
      " conv2_1 (Conv2D)            (None, 64, 64, 32)           4640      ['pool_1[0][0]']              \n",
      "                                                                                                  \n",
      " conv2_2 (Conv2D)            (None, 64, 64, 32)           9248      ['conv2_1[0][0]']             \n",
      "                                                                                                  \n",
      " pool_2 (MaxPooling2D)       (None, 32, 32, 32)           0         ['conv2_2[0][0]']             \n",
      "                                                                                                  \n",
      " conv3_1 (Conv2D)            (None, 32, 32, 64)           18496     ['pool_2[0][0]']              \n",
      "                                                                                                  \n",
      " conv3_2 (Conv2D)            (None, 32, 32, 64)           36928     ['conv3_1[0][0]']             \n",
      "                                                                                                  \n",
      " pool_3 (MaxPooling2D)       (None, 16, 16, 64)           0         ['conv3_2[0][0]']             \n",
      "                                                                                                  \n",
      " conv4_1 (Conv2D)            (None, 16, 16, 128)          73856     ['pool_3[0][0]']              \n",
      "                                                                                                  \n",
      " conv4_2 (Conv2D)            (None, 16, 16, 128)          147584    ['conv4_1[0][0]']             \n",
      "                                                                                                  \n",
      " upconv5_1 (UpSampling2D)    (None, 32, 32, 128)          0         ['conv4_2[0][0]']             \n",
      "                                                                                                  \n",
      " upconv5_2 (Conv2D)          (None, 32, 32, 64)           32832     ['upconv5_1[0][0]']           \n",
      "                                                                                                  \n",
      " concat_5 (Concatenate)      (None, 32, 32, 128)          0         ['upconv5_2[0][0]',           \n",
      "                                                                     'conv3_2[0][0]']             \n",
      "                                                                                                  \n",
      " conv5_1 (Conv2D)            (None, 32, 32, 64)           73792     ['concat_5[0][0]']            \n",
      "                                                                                                  \n",
      " conv5_2 (Conv2D)            (None, 32, 32, 64)           36928     ['conv5_1[0][0]']             \n",
      "                                                                                                  \n",
      " upconv6_1 (UpSampling2D)    (None, 64, 64, 64)           0         ['conv5_2[0][0]']             \n",
      "                                                                                                  \n",
      " upconv6_2 (Conv2D)          (None, 64, 64, 32)           8224      ['upconv6_1[0][0]']           \n",
      "                                                                                                  \n",
      " concat_6 (Concatenate)      (None, 64, 64, 64)           0         ['upconv6_2[0][0]',           \n",
      "                                                                     'conv2_2[0][0]']             \n",
      "                                                                                                  \n",
      " conv6_1 (Conv2D)            (None, 64, 64, 32)           18464     ['concat_6[0][0]']            \n",
      "                                                                                                  \n",
      " conv6_2 (Conv2D)            (None, 64, 64, 32)           9248      ['conv6_1[0][0]']             \n",
      "                                                                                                  \n",
      " upconv7_1 (UpSampling2D)    (None, 128, 128, 32)         0         ['conv6_2[0][0]']             \n",
      "                                                                                                  \n",
      " upconv7_2 (Conv2D)          (None, 128, 128, 16)         2064      ['upconv7_1[0][0]']           \n",
      "                                                                                                  \n",
      " concat_7 (Concatenate)      (None, 128, 128, 32)         0         ['upconv7_2[0][0]',           \n",
      "                                                                     'conv1_2[0][0]']             \n",
      "                                                                                                  \n",
      " conv7_1 (Conv2D)            (None, 128, 128, 8)          2312      ['concat_7[0][0]']            \n",
      "                                                                                                  \n",
      " conv7_2 (Conv2D)            (None, 128, 128, 8)          584       ['conv7_1[0][0]']             \n",
      "                                                                                                  \n",
      " conv8 (Conv2D)              (None, 128, 128, 2)          18        ['conv7_2[0][0]']             \n",
      "                                                                                                  \n",
      "==================================================================================================\n",
      "Total params: 477698 (1.82 MB)\n",
      "Trainable params: 477698 (1.82 MB)\n",
      "Non-trainable params: 0 (0.00 Byte)\n",
      "__________________________________________________________________________________________________\n"
     ]
    }
   ],
   "source": [
    "u_net.summary()"
   ]
  },
  {
   "cell_type": "markdown",
   "metadata": {
    "colab_type": "text",
    "id": "XOsponaGy6xH"
   },
   "source": [
    "# Compile"
   ]
  },
  {
   "cell_type": "code",
   "execution_count": 21,
   "metadata": {
    "colab": {},
    "colab_type": "code",
    "id": "Jd6n8BMDiHfo"
   },
   "outputs": [],
   "source": [
    "import keras.backend as K\n",
    "import tensorflow as tf\n",
    "\n",
    "def custom_cross_entropy(y_true, y_pred):\n",
    "\t\n",
    "  true_shape = tf.shape(y_true)\n",
    "  pred_shape = tf.shape(y_pred)\n",
    "  \n",
    "  # reshape such that w and h dim are multiplied together\n",
    "  y_true_reshaped = tf.reshape( y_true, tf.stack( [-1, true_shape[1] * true_shape[2], true_shape[-1]] ) )\n",
    "  y_pred_reshaped = tf.reshape( y_pred, tf.stack( [-1, pred_shape[1] * pred_shape[2], pred_shape[-1]] ) )\n",
    "\n",
    "\t# correctly classified\n",
    "  y_true_reshaped = tf.cast(y_true_reshaped, tf.int32)\n",
    "  y_true_one = tf.one_hot(y_true_reshaped, depth = pred_shape[-1], axis=-1)\n",
    "  y_true_one = tf.reshape(y_true_one, tf.stack( [-1, tf.shape(y_true_one)[1], pred_shape[-1]]))\n",
    "  \n",
    "  \n",
    "  return -tf.reduce_mean(y_true_one * tf.math.log(y_pred_reshaped)) "
   ]
  },
  {
   "cell_type": "code",
   "execution_count": 22,
   "metadata": {
    "colab": {},
    "colab_type": "code",
    "id": "0LVJatpfQ5wI"
   },
   "outputs": [],
   "source": [
    "import keras.backend as K\n",
    "import tensorflow as tf\n",
    "\n",
    "def mean_acc(y_true, y_pred):\n",
    "\t\n",
    "  true_shape = tf.shape(y_true)\n",
    "  pred_shape = tf.shape(y_pred)\n",
    "  \n",
    "  # reshape such that w and h dim are multiplied together\n",
    "  y_true_reshaped = tf.reshape( y_true, tf.stack( [-1, true_shape[1] * true_shape[2], true_shape[-1]] ))\n",
    "  y_pred_reshaped = tf.reshape( y_pred, tf.stack( [-1, pred_shape[1] * pred_shape[2], pred_shape[-1]] ) )\n",
    "\n",
    "\t# correctly classified\n",
    "  y_true_reshaped = tf.cast(y_true_reshaped, tf.int64)\n",
    "  y_true_one = tf.one_hot(y_true_reshaped, depth = pred_shape[-1], axis=-1)\n",
    "  y_true_one = tf.reshape(y_true_one, tf.stack( [-1, tf.shape(y_true_one)[1], pred_shape[-1]]))\n",
    "  \n",
    "  y_pred_argmax = tf.argmax(y_pred_reshaped, axis = 2)\n",
    "  y_pred_argmax = tf.reshape(y_pred_argmax, tf.shape(y_true_reshaped))\n",
    "  \n",
    "  equal_entries = tf.cast(tf.equal(y_true_reshaped, y_pred_argmax), tf.int64)\n",
    "\n",
    "  correct_pixels_per_class = tf.reduce_sum(equal_entries, axis=1)\n",
    "  \n",
    "  n_pixels_per_class = tf.cast(tf.shape(equal_entries)[1] * tf.shape(equal_entries)[2], tf.int64)\n",
    "\n",
    "  acc = correct_pixels_per_class / n_pixels_per_class\n",
    "  # acc_mask = tf.is_finite(acc)\n",
    "  # acc_masked = tf.boolean_mask(acc,acc_mask)\n",
    "  \n",
    "  return acc"
   ]
  },
  {
   "cell_type": "code",
   "execution_count": 23,
   "metadata": {
    "colab": {},
    "colab_type": "code",
    "id": "fURXbfGcrV9s"
   },
   "outputs": [],
   "source": [
    "u_net.compile(optimizer = 'sgd', loss = custom_cross_entropy, metrics = [mean_acc])"
   ]
  },
  {
   "cell_type": "markdown",
   "metadata": {
    "colab_type": "text",
    "id": "IwZp2ZDVLDaB"
   },
   "source": [
    "# Training"
   ]
  },
  {
   "cell_type": "code",
   "execution_count": 24,
   "metadata": {
    "colab": {
     "base_uri": "https://localhost:8080/",
     "height": 746
    },
    "colab_type": "code",
    "executionInfo": {
     "elapsed": 2511807,
     "status": "ok",
     "timestamp": 1538378900419,
     "user": {
      "displayName": "CDM",
      "photoUrl": "",
      "userId": "09977954582062536659"
     },
     "user_tz": -540
    },
    "id": "pPWK2UwLLGu_",
    "outputId": "74d889c7-5999-4bf7-ba70-691b4da8c7a9"
   },
   "outputs": [
    {
     "name": "stdout",
     "output_type": "stream",
     "text": [
      "500\n",
      "[0 1]\n",
      "0.0\n",
      "1.0\n",
      "(500, 128, 128, 1)\n",
      "(500, 128, 128, 1)\n",
      "Epoch 1/20\n",
      "15/15 [==============================] - 9s 573ms/step - loss: 0.3199 - mean_acc: 0.9290 - val_loss: 0.3014 - val_mean_acc: 0.9415\n",
      "Epoch 2/20\n",
      "15/15 [==============================] - 9s 566ms/step - loss: 0.2905 - mean_acc: 0.9298 - val_loss: 0.2719 - val_mean_acc: 0.9415\n",
      "Epoch 3/20\n",
      "15/15 [==============================] - 8s 558ms/step - loss: 0.2626 - mean_acc: 0.9298 - val_loss: 0.2436 - val_mean_acc: 0.9415\n",
      "Epoch 4/20\n",
      "15/15 [==============================] - 8s 561ms/step - loss: 0.2365 - mean_acc: 0.9298 - val_loss: 0.2178 - val_mean_acc: 0.9415\n",
      "Epoch 5/20\n",
      "15/15 [==============================] - 9s 574ms/step - loss: 0.2134 - mean_acc: 0.9298 - val_loss: 0.1948 - val_mean_acc: 0.9415\n",
      "Epoch 6/20\n",
      "15/15 [==============================] - 9s 581ms/step - loss: 0.1938 - mean_acc: 0.9298 - val_loss: 0.1766 - val_mean_acc: 0.9415\n",
      "Epoch 7/20\n",
      "15/15 [==============================] - 9s 588ms/step - loss: 0.1794 - mean_acc: 0.9298 - val_loss: 0.1629 - val_mean_acc: 0.9415\n",
      "Epoch 8/20\n",
      "15/15 [==============================] - 9s 578ms/step - loss: 0.1692 - mean_acc: 0.9298 - val_loss: 0.1533 - val_mean_acc: 0.9415\n",
      "Epoch 9/20\n",
      "15/15 [==============================] - 9s 590ms/step - loss: 0.1623 - mean_acc: 0.9298 - val_loss: 0.1468 - val_mean_acc: 0.9415\n",
      "Epoch 10/20\n",
      "15/15 [==============================] - 9s 573ms/step - loss: 0.1579 - mean_acc: 0.9298 - val_loss: 0.1431 - val_mean_acc: 0.9415\n",
      "Epoch 11/20\n",
      "15/15 [==============================] - 9s 569ms/step - loss: 0.1550 - mean_acc: 0.9298 - val_loss: 0.1401 - val_mean_acc: 0.9415\n",
      "Epoch 12/20\n",
      "15/15 [==============================] - 9s 570ms/step - loss: 0.1528 - mean_acc: 0.9298 - val_loss: 0.1375 - val_mean_acc: 0.9415\n",
      "Epoch 13/20\n",
      "15/15 [==============================] - 9s 571ms/step - loss: 0.1508 - mean_acc: 0.9298 - val_loss: 0.1355 - val_mean_acc: 0.9415\n",
      "Epoch 14/20\n",
      "15/15 [==============================] - 9s 580ms/step - loss: 0.1488 - mean_acc: 0.9298 - val_loss: 0.1335 - val_mean_acc: 0.9415\n",
      "Epoch 15/20\n",
      "15/15 [==============================] - 9s 567ms/step - loss: 0.1472 - mean_acc: 0.9298 - val_loss: 0.1321 - val_mean_acc: 0.9415\n",
      "Epoch 16/20\n",
      "15/15 [==============================] - 9s 585ms/step - loss: 0.1455 - mean_acc: 0.9298 - val_loss: 0.1303 - val_mean_acc: 0.9415\n",
      "Epoch 17/20\n",
      "15/15 [==============================] - 9s 571ms/step - loss: 0.1440 - mean_acc: 0.9298 - val_loss: 0.1287 - val_mean_acc: 0.9415\n",
      "Epoch 18/20\n",
      "15/15 [==============================] - 9s 581ms/step - loss: 0.1426 - mean_acc: 0.9298 - val_loss: 0.1273 - val_mean_acc: 0.9415\n",
      "Epoch 19/20\n",
      "15/15 [==============================] - 9s 578ms/step - loss: 0.1412 - mean_acc: 0.9298 - val_loss: 0.1261 - val_mean_acc: 0.9415\n",
      "Epoch 20/20\n",
      "15/15 [==============================] - 9s 588ms/step - loss: 0.1398 - mean_acc: 0.9298 - val_loss: 0.1248 - val_mean_acc: 0.9415\n"
     ]
    }
   ],
   "source": [
    "\n",
    "import os\n",
    "import numpy as np\n",
    "\n",
    "data_folder = './output/128x128/'\n",
    "\n",
    "image_folder = os.path.join(data_folder, 'reconstructions')\n",
    "mask_folder = os.path.join(data_folder, 'labels')\n",
    "\n",
    "image_files = os.listdir(image_folder)\n",
    "mask_files = os.listdir(mask_folder)\n",
    "input_images = []\n",
    "input_masks = []\n",
    "\n",
    "print(len(image_files))\n",
    "\n",
    "for i in range(len(image_files)):\n",
    "    image_path = os.path.join(image_folder, f'reconstruction_{i}.npy')\n",
    "    mask_path = os.path.join(mask_folder, f'labels_{i}.npy')\n",
    "\n",
    "    if not os.path.exists(image_path) or not os.path.exists(mask_path):\n",
    "        continue\n",
    "\n",
    "    image = np.load(image_path)\n",
    "    mask = np.load(mask_path)\n",
    "\n",
    "    # Reshape to 128x128x1\n",
    "    image = np.reshape(image, (128, 128, 1))\n",
    "\n",
    "    # Normalize image from 0, 1\n",
    "    image = (image - np.min(image)) / (np.max(image) - np.min(image))\n",
    "\n",
    "    # Reshape to 128x128x2\n",
    "    # 1 -> background\n",
    "    # 2 -> foreground\n",
    "    mask = np.reshape(mask, (128, 128, 1)) - 1\n",
    "    \n",
    "    input_images.append(image)\n",
    "    input_masks.append(mask)\n",
    "\n",
    "input_array = np.array(input_images)\n",
    "gt_array = np.array(input_masks)\n",
    "\n",
    "# Get list of all possible values of gt_array\n",
    "gt_array_values = np.unique(gt_array)\n",
    "print(gt_array_values)\n",
    "\n",
    "# get min and max values of input_array\n",
    "print(np.min(input_array))\n",
    "print(np.max(input_array))\n",
    "\n",
    "print(input_array.shape)\n",
    "print(gt_array.shape)\n",
    "r = u_net.fit(x = input_array, y = gt_array, validation_split = 0.1, epochs = 20)"
   ]
  },
  {
   "cell_type": "code",
   "execution_count": 26,
   "metadata": {},
   "outputs": [
    {
     "data": {
      "image/png": "[encoded data removed]",
      "text/plain": [
       "<Figure size 640x480 with 1 Axes>"
      ]
     },
     "metadata": {},
     "output_type": "display_data"
    },
    {
     "data": {
      "image/png": "[encoded data removed]",
      "text/plain": [
       "<Figure size 640x480 with 1 Axes>"
      ]
     },
     "metadata": {},
     "output_type": "display_data"
    }
   ],
   "source": [
    "import matplotlib.pyplot as plt\n",
    "# loss\n",
    "plt.plot(r.history['loss'], label='train loss')\n",
    "plt.plot(r.history['val_loss'], label='val loss')\n",
    "plt.legend()\n",
    "plt.show()\n",
    "\n",
    "# accuracies\n",
    "plt.plot(r.history['mean_acc'], label='train acc')\n",
    "plt.plot(r.history['val_mean_acc'], label='val acc')\n",
    "plt.legend()\n",
    "plt.show()"
   ]
  }
 ],
 "metadata": {
  "accelerator": "GPU",
  "colab": {
   "collapsed_sections": [],
   "name": "mini u-net .ipynb",
   "provenance": [],
   "toc_visible": true,
   "version": "0.3.2"
  },
  "kernelspec": {
   "display_name": "base",
   "language": "python",
   "name": "python3"
  },
  "language_info": {
   "codemirror_mode": {
    "name": "ipython",
    "version": 3
   },
   "file_extension": ".py",
   "mimetype": "text/x-python",
   "name": "python",
   "nbconvert_exporter": "python",
   "pygments_lexer": "ipython3",
   "version": "3.11.4"
  }
 },
 "nbformat": 4,
 "nbformat_minor": 0
}
